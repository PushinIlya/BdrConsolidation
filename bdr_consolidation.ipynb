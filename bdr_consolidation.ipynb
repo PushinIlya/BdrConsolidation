{
 "cells": [
  {
   "cell_type": "code",
   "execution_count": null,
   "id": "3a834ca6",
   "metadata": {
    "scrolled": true
   },
   "outputs": [],
   "source": [
    "'''\n",
    "Скрипт для консолидации выгруженных из 1С БДР и их распределения по папкам \n",
    "в соответствии с периодом, по которому они сформированы\n",
    "'''\n",
    "# импортируем библиотеки и модули\n",
    "import numpy as np\n",
    "import pandas as pd\n",
    "import os\n",
    "import math\n",
    "import shutil\n",
    "import copy\n",
    "from tqdm import tqdm\n",
    "from openpyxl import Workbook, load_workbook\n",
    "from openpyxl.utils.dataframe import dataframe_to_rows\n",
    "from openpyxl.styles.numbers import BUILTIN_FORMATS\n",
    "from openpyxl.styles import Alignment, Font, PatternFill\n",
    "from openpyxl.worksheet.table import Table, TableStyleInfo"
   ]
  },
  {
   "cell_type": "code",
   "execution_count": null,
   "id": "8a7c741a",
   "metadata": {},
   "outputs": [],
   "source": [
    "# запишем путь к папке с исходными данными в переменную\n",
    "source = os.path.join('C:',\n",
    "                      'Исходные данные')\n",
    "\n",
    "# создадим список с названиями всех файлов в папке с исходными данными с расширением .xlsx\n",
    "raw_data_name_list = [raw_data for raw_data in os.listdir(source) if raw_data.startswith('БДР') and\n",
    "                      raw_data.endswith('.xlsx')]\n",
    "\n",
    "print(f'Исходные данные: {raw_data_name_list}')"
   ]
  },
  {
   "cell_type": "code",
   "execution_count": null,
   "id": "3cfabad7",
   "metadata": {},
   "outputs": [],
   "source": [
    "print('Выполнение скрипта \"bdr_consolidation\" (консолидация БДР)')\n",
    "print(f'Чтение БДР из \"{source}\"')\n",
    "\n",
    "# создадим справочник из всех датафреймов в списке 'raw_data_name_list'\n",
    "all_raw_data = {raw_data:pd.read_excel(os.path.join(source, f'{raw_data}')) for raw_data in tqdm(raw_data_name_list)}"
   ]
  },
  {
   "cell_type": "code",
   "execution_count": null,
   "id": "3536a06d",
   "metadata": {},
   "outputs": [],
   "source": [
    "# создадим список столбцов, которые нужно сохранить\n",
    "columns = [0,1,-8,-7,-6,-5,-4,-3,-2,-1]"
   ]
  },
  {
   "cell_type": "code",
   "execution_count": null,
   "id": "18c7e837",
   "metadata": {},
   "outputs": [],
   "source": [
    "# удалим столбцы, содержащие только пустые значения\n",
    "all_raw_data = {raw_data[0]: raw_data[1].dropna(axis=1, how='all', inplace=False) for raw_data in all_raw_data.items()}"
   ]
  },
  {
   "cell_type": "code",
   "execution_count": null,
   "id": "4aeae5dc",
   "metadata": {},
   "outputs": [],
   "source": [
    "# оставим только столбцы из списка 'columns'\n",
    "all_raw_data = {raw_data[0]: raw_data[1].iloc[:, columns] for raw_data in all_raw_data.items()}"
   ]
  },
  {
   "cell_type": "code",
   "execution_count": null,
   "id": "ce11a6bb",
   "metadata": {},
   "outputs": [],
   "source": [
    "# создадим список 'source_file_path' и заполним его значениями путей к исходным файлам\n",
    "source_file_path = []\n",
    "for name in raw_data_name_list:\n",
    "    source_file_path.append(os.path.join(source, name))"
   ]
  },
  {
   "cell_type": "code",
   "execution_count": null,
   "id": "c0d8b123",
   "metadata": {},
   "outputs": [],
   "source": [
    "# объединим списки 'raw_data_name_list' и 'source_file_path'\n",
    "# в список кортежей с названием файла и путём к нему\n",
    "source_file = list(zip(raw_data_name_list, source_file_path))"
   ]
  },
  {
   "cell_type": "code",
   "execution_count": null,
   "id": "7ee88fc3",
   "metadata": {
    "scrolled": true
   },
   "outputs": [],
   "source": [
    "'''\n",
    "Цикл, который перезаписывает каждый файл из 'all_raw_data', чтобы сохранить внесённые ранее изменения в его структуру,\n",
    "а также сохраняет файл в формате xlsx в первоначальную папку\n",
    "'''\n",
    "print(f'Перезапись БДР из \"{source}\"')\n",
    "for raw_data in tqdm(all_raw_data.items()):\n",
    "    for file in source_file:\n",
    "        if raw_data[0] == file[0]:\n",
    "            raw_data[1].to_excel(file[1], header=False, index=False)"
   ]
  },
  {
   "cell_type": "code",
   "execution_count": null,
   "id": "a72b11d4",
   "metadata": {},
   "outputs": [],
   "source": [
    "# создадим список с периодами формирования БДР для каждого файла\n",
    "period_list = []\n",
    "for raw_data in all_raw_data.values():\n",
    "    period_list.append(raw_data.iloc[2,2])"
   ]
  },
  {
   "cell_type": "code",
   "execution_count": null,
   "id": "8fe3eacf",
   "metadata": {},
   "outputs": [],
   "source": [
    "# переименуем каждый датафрейм, оставив только название компании в имени\n",
    "all_raw_data = {raw_data[0][raw_data[0].rfind('_')+1:]: raw_data[1] for raw_data in all_raw_data.items()}"
   ]
  },
  {
   "cell_type": "code",
   "execution_count": null,
   "id": "b38bfc1f",
   "metadata": {
    "scrolled": true
   },
   "outputs": [],
   "source": [
    "# создадим excel файл 'Сводный_БДР' и добавим в него все датафреймы с исходными данными\n",
    "with pd.ExcelWriter(os.path.join(source, f'Сводный_БДР_{period_list[0]}.xlsx')) as source_file:\n",
    "    print(f'Создание листов excel из БДР')\n",
    "    for raw_data in tqdm(all_raw_data.items()):\n",
    "        raw_data[1].to_excel(source_file,\n",
    "                             sheet_name=raw_data[0][raw_data[0].rfind('_')+1:].replace('.xlsx', ''),\n",
    "                             header=False,\n",
    "                             index=False)"
   ]
  },
  {
   "cell_type": "code",
   "execution_count": null,
   "id": "b8da0ac0",
   "metadata": {},
   "outputs": [],
   "source": [
    "# функция для извлечения номера месяца по названию месяца\n",
    "def month_number(month_name):\n",
    "    months = {'январь': '01',\n",
    "              'февраль': '02', \n",
    "              'март': '03',\n",
    "              'апрель': '04', \n",
    "              'май': '05', \n",
    "              'июнь': '06',\n",
    "              'июль': '07',\n",
    "              'август': '08',\n",
    "              'сентябрь': '09',\n",
    "              'октябрь': '10', \n",
    "              'ноябрь': '11', \n",
    "              'декабрь': '12'}\n",
    "    month_number = months[month_name]\n",
    "    return month_number"
   ]
  },
  {
   "cell_type": "code",
   "execution_count": null,
   "id": "67ab9413",
   "metadata": {},
   "outputs": [],
   "source": [
    "# удалим лишние строки в датафреймах\n",
    "all_raw_data = {raw_data[0]: raw_data[1][5:] for raw_data in all_raw_data.items()}"
   ]
  },
  {
   "cell_type": "code",
   "execution_count": null,
   "id": "e7b61db2",
   "metadata": {},
   "outputs": [],
   "source": [
    "# переименуем столбцы в каждом датафрейме\n",
    "for raw_data in all_raw_data.values():\n",
    "    raw_data.columns = list(range(0,10))"
   ]
  },
  {
   "cell_type": "code",
   "execution_count": null,
   "id": "00fe827e",
   "metadata": {},
   "outputs": [],
   "source": [
    "# словарь с именами столбцов и типами данных\n",
    "type_of_columns = {2: 'float64', \n",
    "                   3: 'float64', \n",
    "                   4: 'float64',\n",
    "                   5: 'float64', \n",
    "                   6: 'float64', \n",
    "                   7: 'float64', \n",
    "                   8: 'float64',\n",
    "                   9: 'float64'}"
   ]
  },
  {
   "cell_type": "code",
   "execution_count": null,
   "id": "5af616d3",
   "metadata": {},
   "outputs": [],
   "source": [
    "# изменим тип данных в каждом датафрейме в соответствии со словарём 'type_of_columns'\n",
    "all_raw_data = {raw_data[0]: raw_data[1].astype(type_of_columns) for raw_data in all_raw_data.items()}"
   ]
  },
  {
   "cell_type": "code",
   "execution_count": null,
   "id": "62f86d0c",
   "metadata": {},
   "outputs": [],
   "source": [
    "# заменим пустое значение кодификатора в столбце 1 в строке 'Итого', чтобы при конкатенации сохранить строку 'Итого'\n",
    "for raw_data in all_raw_data.values():\n",
    "    raw_data[1] = raw_data[1].fillna('999')"
   ]
  },
  {
   "cell_type": "code",
   "execution_count": null,
   "id": "ed0c9b21",
   "metadata": {},
   "outputs": [],
   "source": [
    "# объединим данные по каждому датафрейму в единый датафрейм, путём суммирования построчно\n",
    "consolidated_data = (pd.concat(all_raw_data.values())\n",
    "                     .groupby([0,1])\n",
    "                     .sum()\n",
    "                     .sort_values([1])\n",
    "                     .reset_index()\n",
    "                    )"
   ]
  },
  {
   "cell_type": "code",
   "execution_count": null,
   "id": "804fbef7",
   "metadata": {},
   "outputs": [],
   "source": [
    "# избавимся от лишнего кодификатора в объединённом датафрейме\n",
    "consolidated_data[1] = consolidated_data[1].replace('999', '')"
   ]
  },
  {
   "cell_type": "code",
   "execution_count": null,
   "id": "b23026b0",
   "metadata": {},
   "outputs": [],
   "source": [
    "# избавимся от лишнего кодификатора в каждом исходном файле\n",
    "for raw_data in all_raw_data.values():\n",
    "    raw_data[1] = raw_data[1].replace('999', '')"
   ]
  },
  {
   "cell_type": "code",
   "execution_count": null,
   "id": "45e8c48c",
   "metadata": {},
   "outputs": [],
   "source": [
    "# рассчитаем значения в столбце 'Отклонение (отн., %)' за месяц\n",
    "# рассчитаем значения в столбце 'Отклонение (отн., %)' за весь период\n",
    "consolidated_data[5] = consolidated_data[4]/abs(consolidated_data[2])*100\n",
    "consolidated_data[9] = consolidated_data[8]/abs(consolidated_data[6])*100"
   ]
  },
  {
   "cell_type": "code",
   "execution_count": null,
   "id": "3db3cf6e",
   "metadata": {},
   "outputs": [],
   "source": [
    "# при расчёте значений 'Отклонение (отн., %)' при делении на 0 получились бесконечные числа, заменим их на 100\n",
    "consolidated_data.replace([np.inf, -np.inf], 100, inplace=True)"
   ]
  },
  {
   "cell_type": "code",
   "execution_count": null,
   "id": "1bc8bb87",
   "metadata": {},
   "outputs": [],
   "source": [
    "# переименуем столбцы\n",
    "consolidated_data.columns = ['Статья бюджета',\n",
    "                             'Кодификатор',\n",
    "                             f'План годовой по месяцам ({period_list[0]})',\n",
    "                             f'ФАКТ ({period_list[0]})',\n",
    "                             f'Отклонение (абс.) ({period_list[0]})',\n",
    "                             f'Отклонение (отн., %) ({period_list[0]})',\n",
    "                             'План годовой по месяцам (Итого)',\n",
    "                             'ФАКТ (Итого)',\n",
    "                             'Отклонение (абс.) (Итого)',\n",
    "                             'Отклонение (отн., %) (Итого)']"
   ]
  },
  {
   "cell_type": "code",
   "execution_count": null,
   "id": "719b7cf7",
   "metadata": {},
   "outputs": [],
   "source": [
    "book_path = os.path.join(source, f'Сводный_БДР_{period_list[0]}.xlsx') # создадим путь к итоговому excel файлу\n",
    "book = load_workbook(book_path) # загрузим excel файл для редактирования"
   ]
  },
  {
   "cell_type": "code",
   "execution_count": null,
   "id": "889fc17c",
   "metadata": {},
   "outputs": [],
   "source": [
    "columns = ['A', 'B', 'C', 'D', 'E', 'F', 'G', 'H', 'I', 'J'] # создадим список столбцов, к которым будем обращаться"
   ]
  },
  {
   "cell_type": "code",
   "execution_count": null,
   "id": "eabfb01a",
   "metadata": {},
   "outputs": [],
   "source": [
    "# заменим названия столбцов на каждом листе\n",
    "for sheet in book:\n",
    "    x = 0\n",
    "    for column in columns:\n",
    "        sheet[f'{column}5'] = consolidated_data.columns[x]\n",
    "        x += 1"
   ]
  },
  {
   "cell_type": "code",
   "execution_count": null,
   "id": "f42e6f18",
   "metadata": {},
   "outputs": [],
   "source": [
    "# создадим новый лист\n",
    "new_sheet = book.create_sheet('Консолидация')\n",
    "\n",
    "# загрузим объединённый датафрейм на новый лист\n",
    "for row in dataframe_to_rows(consolidated_data, index=False, header=True):\n",
    "    new_sheet.append(row)"
   ]
  },
  {
   "cell_type": "code",
   "execution_count": null,
   "id": "7bab4082",
   "metadata": {},
   "outputs": [],
   "source": [
    "# создадим таблицы на каждом листе\n",
    "for sheet in book:\n",
    "    if sheet.title == 'Консолидация':\n",
    "        table = Table(displayName=sheet.title, ref=f'A1:J{sheet.max_row}') # создадим таблицу\n",
    "        style = TableStyleInfo(name='TableStyleLight13', # создадим стиль таблицы\n",
    "                               showFirstColumn=False,\n",
    "                               showLastColumn=False,\n",
    "                               showRowStripes=True,\n",
    "                               showColumnStripes=True)\n",
    "        table.tableStyleInfo = style # применим стиль\n",
    "        sheet.add_table(table) # добавим таблицу на лист\n",
    "    else:\n",
    "        table = Table(displayName=sheet.title, ref=f'A5:J{sheet.max_row}')\n",
    "        style = TableStyleInfo(name='TableStyleLight13',\n",
    "                               showFirstColumn=False,\n",
    "                               showLastColumn=False,\n",
    "                               showRowStripes=True,\n",
    "                               showColumnStripes=True)\n",
    "        table.tableStyleInfo = style\n",
    "        sheet.add_table(table)"
   ]
  },
  {
   "cell_type": "code",
   "execution_count": null,
   "id": "a5348515",
   "metadata": {},
   "outputs": [],
   "source": [
    "# функция для группировки строк на каждом листе, кроме 'Консолидация' в excel файле на основе столбца 'Кодификатор'\n",
    "def rows_grouping(lvl):\n",
    "    # группировка 1-го уровня\n",
    "    if lvl == 1:\n",
    "        # создадим список с индексами строк для группировки 1-го уровня\n",
    "        rows_start = {raw_data[0]: list(raw_data[1][1]\n",
    "                                        .str.count('\\\\.')[lambda x: x == 1]\n",
    "                                        .index) \n",
    "                      for raw_data in all_raw_data.items()}\n",
    "        \n",
    "        # добавим в список с индексами строк для группировки 1-го уровня последнюю строку на листе,\n",
    "        # чтобы группировка была корректной \n",
    "        for raw_data in all_raw_data.items():\n",
    "            rows_start[raw_data[0]].append(list(raw_data[1][1].index)[-1])\n",
    "            \n",
    "        # создадим аналогичный список с индексами строк для группировки 1-го уровня,\n",
    "        # только смещённый на 1-ну позицию\n",
    "        rows_end = {raw_data[0]: rows_start[raw_data[0]][1:]\n",
    "                    for raw_data in all_raw_data.items()}\n",
    "        # пересоздадим список с индексами строк для группировки 1-го уровня, так как до этого его изменили\n",
    "        rows_start = {raw_data[0]: list(raw_data[1][1]\n",
    "                                        .str.count('\\\\.')[lambda x: x == 1]\n",
    "                                        .index)\n",
    "                      for raw_data in all_raw_data.items()}\n",
    "        # объединим оба списка в список кортежей\n",
    "        rows = {raw_data[0]: list(zip(rows_start[raw_data[0]], rows_end[raw_data[0]]))\n",
    "                for raw_data in all_raw_data.items()}\n",
    "    \n",
    "        return rows\n",
    "    else:\n",
    "        temp_all_raw_data = copy.deepcopy(all_raw_data) # создадим копию 'all_raw_data'\n",
    "        for raw_data in temp_all_raw_data.values():\n",
    "            for row in raw_data[1]:\n",
    "                if not (pd.isna(row)): # не учитываем пустые значения\n",
    "                    # группировка 2-го уровня\n",
    "                    if lvl == 2:\n",
    "                        # оставим только значения с 2-мя точками в столбце с кодификатором\n",
    "                        raw_data.replace({row: row[:row.find('.', row.find('.')+1)+1]}, inplace=True) \n",
    "                    # группировка 3-го уровня\n",
    "                    elif lvl == 3:\n",
    "                        # оставим только значения с 3-мя точками в столбце с кодификатором\n",
    "                        raw_data.replace({row: row[:row.find('.', row.find('.', row.find('.')+1)+1)+1]}, inplace=True)\n",
    "\n",
    "        # создадим список с индексами строк для группировки, оставив только первое вхождение кодификатора\n",
    "        # с необходимым уровнем группировки\n",
    "        rows_start = {raw_data[0]: list(raw_data[1][1][lambda x: x.str.count('\\\\.') == lvl]\n",
    "                                        .drop_duplicates(keep='first')\n",
    "                                        .index)\n",
    "                      for raw_data in temp_all_raw_data.items()}\n",
    "        # создадим список с индексами строк для группировки, оставив только последнее вхождение кодификатора\n",
    "        # с необходимым уровнем группировки\n",
    "        rows_end = {raw_data[0]: list(raw_data[1][1][lambda x: x.str.count('\\\\.') == lvl]\n",
    "                                      .drop_duplicates(keep='last')\n",
    "                                      .index)\n",
    "                    for raw_data in temp_all_raw_data.items()}\n",
    "        # объединим оба списка в список кортежей\n",
    "        rows = {raw_data[0]: list(zip(rows_start[raw_data[0]], rows_end[raw_data[0]])) \n",
    "                for raw_data in temp_all_raw_data.items()}\n",
    "    \n",
    "        return rows"
   ]
  },
  {
   "cell_type": "code",
   "execution_count": null,
   "id": "d6df4808",
   "metadata": {},
   "outputs": [],
   "source": [
    "# функция для группировки строк в excel файле на основе столбца 'Кодификатор' на листе 'Консолидация'\n",
    "# код аналогичен функции 'rows_grouping'\n",
    "def rows_grouping_conso(lvl):\n",
    "    if lvl == 1:\n",
    "        rows_start = list(consolidated_data['Кодификатор'].str.count('\\\\.')[lambda x: x == 1].index)\n",
    "        rows_start.append(list(consolidated_data['Кодификатор'].index)[-1])\n",
    "    \n",
    "        rows_end = rows_start[1:]\n",
    "        rows_start = list(consolidated_data['Кодификатор'].str.count('\\\\.')[lambda x: x == 1].index)\n",
    "        rows = list(zip(rows_start, rows_end))\n",
    "    \n",
    "        return rows\n",
    "    else:\n",
    "        temp_consolidated_data = copy.deepcopy(consolidated_data)\n",
    "        for row in temp_consolidated_data['Кодификатор']:\n",
    "            if not (pd.isna(row)):\n",
    "                if lvl == 2:\n",
    "                    temp_consolidated_data['Кодификатор'].replace({row: row[:row.find('.',\n",
    "                                                                                      row.find('.')+1)+1]},\n",
    "                                                                  inplace=True)\n",
    "                elif lvl == 3:\n",
    "                    temp_consolidated_data['Кодификатор'].replace({row: row[:row.find('.',\n",
    "                                                                                      row.find('.',\n",
    "                                                                                               row.find('.')+1)+1)+1]},\n",
    "                                                                  inplace=True)\n",
    "\n",
    "        rows_start = list(temp_consolidated_data['Кодификатор'][lambda x: x.str.count('\\\\.') == lvl]\n",
    "                          .drop_duplicates(keep='first')\n",
    "                          .index)\n",
    "        rows_end = list(temp_consolidated_data['Кодификатор'][lambda x: x.str.count('\\\\.') == lvl]\n",
    "                        .drop_duplicates(keep='last')\n",
    "                        .index)\n",
    "        rows = list(zip(rows_start, rows_end))\n",
    "    \n",
    "        return rows"
   ]
  },
  {
   "cell_type": "code",
   "execution_count": null,
   "id": "d6319afe",
   "metadata": {},
   "outputs": [],
   "source": [
    "# функция для применения группировки строк на каждом листе, кроме 'Консолидация' в excel файле\n",
    "def apply_rows_grouping():\n",
    "    for row_key, row_value in rows_1.items():\n",
    "        for row in row_value:\n",
    "            if (row[1] - row[0]) > 0:\n",
    "                '''\n",
    "                К каждой начальной строке добавляем 2 для корректной группировки,\n",
    "                добавили 1, так как нумерация в excel начинается с 1-ой строки, а в python с 0\n",
    "                и ещё 1, чтобы начальная строка не скрылась из-за группировки.\n",
    "                К каждой конечной строке ничего не добавляем, так как\n",
    "                весь диапазон группировки достигнут.\n",
    "                ''' \n",
    "                book[row_key.replace('.xlsx', '')].row_dimensions.group(row[0]+2,\n",
    "                                                                        row[1],\n",
    "                                                                        outline_level=1,\n",
    "                                                                        hidden=True)\n",
    "    for row_key, row_value in rows_2.items():\n",
    "        for row in row_value:\n",
    "            if (row[1] - row[0]) > 0:\n",
    "                '''\n",
    "                К каждой начальной строке добавляем 2 для корректной группировки,\n",
    "                добавили 1, так как нумерация в excel начинается с 1-ой строки, а в python с 0\n",
    "                и ещё 1, чтобы начальная строка не скрылась из-за группировки.\n",
    "                К каждой конечной строке добавляем 1, чтобы достичь весь диапазон\n",
    "                группировки.\n",
    "                ''' \n",
    "                book[row_key.replace('.xlsx', '')].row_dimensions.group(row[0]+2, \n",
    "                                                                        row[1]+1,\n",
    "                                                                        outline_level=2,\n",
    "                                                                        hidden=True)\n",
    "    for row_key, row_value in rows_3.items():\n",
    "        for row in row_value:\n",
    "            if (row[1] - row[0]) > 0:\n",
    "                # аналогично группировке 2-го уровня\n",
    "                book[row_key.replace('.xlsx', '')].row_dimensions.group(row[0]+2, \n",
    "                                                                        row[1]+1,\n",
    "                                                                        outline_level=3, \n",
    "                                                                        hidden=True)"
   ]
  },
  {
   "cell_type": "code",
   "execution_count": null,
   "id": "d2f127c8",
   "metadata": {},
   "outputs": [],
   "source": [
    "'''\n",
    "Функция для применения группировки строк в excel файле на листе 'Консолидация'.\n",
    "Код аналогичен функции 'apply_rows_grouping', \n",
    "только к каждой строке добавляем на 1 больше, так как 'consolidated_data'\n",
    "выгружена с заголовками, поэтому нумерацию нужно сместить.\n",
    "'''\n",
    "def apply_rows_grouping_conso():\n",
    "    for row in rows_1_conso:\n",
    "        if (row[1] - row[0]) > 0:\n",
    "            book['Консолидация'].row_dimensions.group(row[0]+3,\n",
    "                                                      row[1]+1,\n",
    "                                                      outline_level=1,\n",
    "                                                      hidden=True)\n",
    "    for row in rows_2_conso:\n",
    "        if (row[1] - row[0]) > 0:\n",
    "            book['Консолидация'].row_dimensions.group(row[0]+3, \n",
    "                                                      row[1]+2,\n",
    "                                                      outline_level=2,\n",
    "                                                      hidden=True)\n",
    "    for row in rows_3_conso:\n",
    "        if (row[1] - row[0]) > 0:\n",
    "            book['Консолидация'].row_dimensions.group(row[0]+3,\n",
    "                                                      row[1]+2, \n",
    "                                                      outline_level=3, \n",
    "                                                      hidden=True)"
   ]
  },
  {
   "cell_type": "code",
   "execution_count": null,
   "id": "034cd303",
   "metadata": {},
   "outputs": [],
   "source": [
    "# создадим для каждого уровня группировки на каждом листе, кроме 'Консолидация' список кортежей\n",
    "rows_1 = rows_grouping(1)\n",
    "rows_2 = rows_grouping(2)\n",
    "rows_3 = rows_grouping(3)\n",
    "# создадим для каждого уровня группировки на листе 'Консолидация' список кортежей\n",
    "rows_1_conso = rows_grouping_conso(1)\n",
    "rows_2_conso = rows_grouping_conso(2)\n",
    "rows_3_conso = rows_grouping_conso(3)"
   ]
  },
  {
   "cell_type": "code",
   "execution_count": null,
   "id": "9ad63560",
   "metadata": {},
   "outputs": [],
   "source": [
    "# на основе списков кортежей сгруппируем строки на каждом листе, кроме 'Консолидация' в excel файле\n",
    "apply_rows_grouping()\n",
    "# на основе списков кортежей сгруппируем строки на листе 'Консолидация' в excel файле\n",
    "apply_rows_grouping_conso()"
   ]
  },
  {
   "cell_type": "code",
   "execution_count": null,
   "id": "1106efe3",
   "metadata": {},
   "outputs": [],
   "source": [
    "# цикл для изменения ширины столбцов на каждом листе в excel файле\n",
    "for sheet in book:\n",
    "    for column in columns:\n",
    "        sheet.column_dimensions[column].width = 20\n",
    "    sheet.column_dimensions['A'].width = 65\n",
    "    sheet.column_dimensions['B'].width = 20"
   ]
  },
  {
   "cell_type": "code",
   "execution_count": null,
   "id": "bc451e9a",
   "metadata": {},
   "outputs": [],
   "source": [
    "# цикл для изменения формата ячеек на каждом листе в excel файле\n",
    "for sheet in book:\n",
    "    for column in columns:\n",
    "        if column in ['A', 'B']:\n",
    "            for cell in sheet[column:column]:\n",
    "                sheet[cell.coordinate].number_format = BUILTIN_FORMATS[0]  \n",
    "        else:\n",
    "            for cell in sheet[column:column]:\n",
    "                sheet[cell.coordinate].number_format = BUILTIN_FORMATS[3]"
   ]
  },
  {
   "cell_type": "code",
   "execution_count": null,
   "id": "40c55d58",
   "metadata": {},
   "outputs": [],
   "source": [
    "# цикл для изменения стиля и выравнивания ячеек на каждом листе в excel файле\n",
    "for sheet in book:\n",
    "    if sheet.title == 'Консолидация':\n",
    "        for column in columns:\n",
    "            # изменение параметров шрифта\n",
    "            sheet[f'{column}1'].font = Font(bold=True, \n",
    "                                            color='FFFFFFFF')\n",
    "            # изменение выравнивания\n",
    "            sheet[f'{column}1'].alignment = Alignment(horizontal='center',\n",
    "                                                      vertical='center',\n",
    "                                                      wrap_text=True)\n",
    "            \n",
    "            # изменение заливки и шрифта сгруппированных строк\n",
    "            for row in list(consolidated_data['Кодификатор'][lambda x: x.str.count('\\\\.') == 1].index):\n",
    "                pattern_fill = PatternFill(fill_type='solid',\n",
    "                                           start_color='DAEEF3',\n",
    "                                           end_color='DAEEF3')\n",
    "                sheet[f'{column}{row+2}'].fill = pattern_fill # к строке добавляем 2 из-за смещения нумерации\n",
    "                sheet[f'{column}{row+2}'].font = Font(bold=True)\n",
    "            for row in list(consolidated_data['Кодификатор'][lambda x: x.str.count('\\\\.') == 2].index):\n",
    "                sheet[f'{column}{row+2}'].font = Font(bold=True)\n",
    "            # изменение заливки и шрифта строки 'Итого'\n",
    "            sheet[f'{column}{sheet.max_row}'].fill = pattern_fill\n",
    "            sheet[f'{column}{sheet.max_row}'].font = Font(bold=True)\n",
    "        \n",
    "        # изменение выравнивания числовых ячеек\n",
    "        for cell_tuple in sheet[f'C2:J{sheet.max_row}']:\n",
    "            for cell in cell_tuple:\n",
    "                cell.alignment = Alignment(horizontal='center',\n",
    "                                           vertical='center')\n",
    "    else:\n",
    "        for column in columns:\n",
    "            # изменение параметров шрифта\n",
    "            sheet[f'{column}5'].font = Font(bold=True, \n",
    "                                            color='FFFFFFFF')\n",
    "            # изменение выравнивания\n",
    "            sheet[f'{column}5'].alignment = Alignment(horizontal='center',\n",
    "                                                      vertical='center',\n",
    "                                                      wrap_text=True)\n",
    "            \n",
    "        # изменение заливки и шрифта сгруппированных строк\n",
    "        for raw_data in all_raw_data.items():\n",
    "            rows_1 = list(raw_data[1][1].str.count('\\\\.')[lambda x: x == 1].index)\n",
    "            rows_2 = list(raw_data[1][1].str.count('\\\\.')[lambda x: x == 2].index)\n",
    "            if raw_data[0].replace('.xlsx', '') == sheet.title:\n",
    "                for column in columns:\n",
    "                    for row in rows_1:\n",
    "                        patern_fill = PatternFill(fill_type='solid',\n",
    "                                                  start_color='DAEEF3',\n",
    "                                                  end_color='DAEEF3')\n",
    "                        sheet[f'{column}{row+1}'].fill = patern_fill # к строке добавляем 1 из-за смещения нумерации\n",
    "                        sheet[f'{column}{row+1}'].font = Font(bold=True)\n",
    "                    for row in rows_2:\n",
    "                        sheet[f'{column}{row+1}'].font = Font(bold=True)\n",
    "                    # изменение заливки и шрифта строки 'Итого'\n",
    "                    sheet[f'{column}{sheet.max_row}'].fill = patern_fill\n",
    "                    sheet[f'{column}{sheet.max_row}'].font = Font(bold=True)\n",
    "\n",
    "        # изменение выравнивания числовых ячеек\n",
    "        for cell_tuple in sheet[f'C6:J{sheet.max_row}']:\n",
    "            for cell in cell_tuple:\n",
    "                cell.alignment = Alignment(horizontal='center',\n",
    "                                           vertical='center')"
   ]
  },
  {
   "cell_type": "code",
   "execution_count": null,
   "id": "5ea3b9de",
   "metadata": {},
   "outputs": [],
   "source": [
    "# цикл для изменения отступа ячеек на каждом листе в excel файле\n",
    "for sheet in book:\n",
    "    if sheet.title == 'Консолидация':\n",
    "        rows_1 = list(consolidated_data['Кодификатор'].str.count('\\\\.')[lambda x: x == 2].index)\n",
    "        for row in rows_1:\n",
    "            sheet[f'A{row+2}'].alignment = Alignment(indent=1) # к строке добавляем 2 из-за смещения нумерации\n",
    "            \n",
    "        rows_2 = list(consolidated_data['Кодификатор'].str.count('\\\\.')[lambda x: x == 3].index)\n",
    "        for row in rows_2:\n",
    "            sheet[f'A{row+2}'].alignment = Alignment(indent=2)\n",
    "            \n",
    "        rows_3 = list(consolidated_data['Кодификатор'].str.count('\\\\.')[lambda x: x == 4].index)\n",
    "        for row in rows_3:\n",
    "            sheet[f'A{row+2}'].alignment = Alignment(indent=3)\n",
    "    else:\n",
    "        rows_1 = list(all_raw_data[f'{sheet.title}.xlsx'][1].str.count('\\\\.')[lambda x: x == 2].index)\n",
    "        for row in rows_1:\n",
    "            sheet[f'A{row+1}'].alignment = Alignment(indent=1) # к строке добавляем 1 из-за смещения нумерации\n",
    "            \n",
    "        rows_2 = list(all_raw_data[f'{sheet.title}.xlsx'][1].str.count('\\\\.')[lambda x: x == 3].index)\n",
    "        for row in rows_2:\n",
    "            sheet[f'A{row+1}'].alignment = Alignment(indent=2)\n",
    "            \n",
    "        rows_3 = list(all_raw_data[f'{sheet.title}.xlsx'][1].str.count('\\\\.')[lambda x: x == 4].index)\n",
    "        for row in rows_3:\n",
    "            sheet[f'A{row+1}'].alignment = Alignment(indent=3)"
   ]
  },
  {
   "cell_type": "code",
   "execution_count": null,
   "id": "7d736a85",
   "metadata": {},
   "outputs": [],
   "source": [
    "book.save(book_path) # сохраним excel файл"
   ]
  },
  {
   "cell_type": "code",
   "execution_count": null,
   "id": "654dc09a",
   "metadata": {},
   "outputs": [],
   "source": [
    "# создадим список с расположением новых папок\n",
    "folder_location = os.path.join(source,\n",
    "                               period_list[0][-4:],\n",
    "                               f'{month_number(str.lower(period_list[0][:-5]))}_{str.lower(period_list[0][:-5])}')\n",
    "# создаются только те папки, которые до этого не существовали\n",
    "if not os.path.exists(folder_location):\n",
    "    os.makedirs(folder_location)"
   ]
  },
  {
   "cell_type": "code",
   "execution_count": null,
   "id": "88dc9dc5",
   "metadata": {},
   "outputs": [],
   "source": [
    "print(f'Распределение БДР и итогового файла из \"{source}\" по папкам')\n",
    "# скопируем итоговый файл с расширением .xlsx в новую папку\n",
    "shutil.copy(book_path, folder_location)\n",
    "# удалим итоговый файл с расширением .xlsx из первоначальной папки\n",
    "os.remove(book_path)\n",
    "\n",
    "# цикл, который копирует каждый файл из 'raw_data_list' в новую папку и удаляет его из папки c исходными данными\n",
    "for name in tqdm(raw_data_name_list):\n",
    "    # скопируем исходные данные с расширением .xlsx в новую папку\n",
    "    shutil.copy(os.path.join(source, name), folder_location)\n",
    "    # удалим исходные данные с расширением .xlsx из первоначальной папки\n",
    "    os.remove(os.path.join(source, name))"
   ]
  }
 ],
 "metadata": {
  "kernelspec": {
   "display_name": "Python 3 (ipykernel)",
   "language": "python",
   "name": "python3"
  },
  "language_info": {
   "codemirror_mode": {
    "name": "ipython",
    "version": 3
   },
   "file_extension": ".py",
   "mimetype": "text/x-python",
   "name": "python",
   "nbconvert_exporter": "python",
   "pygments_lexer": "ipython3",
   "version": "3.9.13"
  }
 },
 "nbformat": 4,
 "nbformat_minor": 5
}
